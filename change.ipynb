{
 "cells": [
  {
   "cell_type": "code",
   "execution_count": 3,
   "id": "d6bba85d",
   "metadata": {},
   "outputs": [],
   "source": [
    "import cv2\n",
    "from tinyface import FacePair, TinyFace\n",
    "import os\n",
    "os.chdir(\"C:/Users/yifan yang/OneDrive/Desktop/TinyFace-main\")"
   ]
  },
  {
   "cell_type": "code",
   "execution_count": 13,
   "id": "ad9dae40",
   "metadata": {},
   "outputs": [],
   "source": [
    "input_img = cv2.imread(\"input.jpg\")\n",
    "reference_img = cv2.imread(\"reference.jpg\")\n",
    "destination_img = cv2.imread(\"destination.jpg\")\n",
    "if input_img is None:\n",
    "    raise FileNotFoundError(\"input.jpg 文件未找到或路径错误\")\n",
    "if reference_img is None:\n",
    "    raise FileNotFoundError(\"reference.jpg 文件未找到或路径错误\")\n",
    "if destination_img is None:\n",
    "    raise FileNotFoundError(\"destination.jpg 文件未找到或路径错误\")"
   ]
  },
  {
   "cell_type": "code",
   "execution_count": 16,
   "id": "c919c5f0",
   "metadata": {},
   "outputs": [],
   "source": [
    "tinyface = TinyFace()\n",
    "tinyface.prepare()\n",
    "reference_face = tinyface.get_one_face(reference_img)\n",
    "destination_face = tinyface.get_one_face(destination_img)\n",
    "if reference_face is None:\n",
    "    raise ValueError(\"未在 reference.jpg 中检测到人脸\")\n",
    "if destination_face is None:\n",
    "    raise ValueError(\"未在 destination.jpg 中检测到人脸\")\n",
    "\n",
    "input_face = tinyface.get_one_face(input_img)\n",
    "if input_face is None:\n",
    "    raise ValueError(\"未在 input.jpg 中检测到人脸\")\n"
   ]
  },
  {
   "cell_type": "code",
   "execution_count": 17,
   "id": "5d3ac497",
   "metadata": {},
   "outputs": [
    {
     "data": {
      "text/plain": [
       "True"
      ]
     },
     "execution_count": 17,
     "metadata": {},
     "output_type": "execute_result"
    }
   ],
   "source": [
    "output_img = tinyface.swap_face(input_img, reference_face, destination_face)\n",
    "cv2.imwrite(\"out.jpg\", output_img)"
   ]
  }
 ],
 "metadata": {
  "kernelspec": {
   "display_name": "Python 3",
   "language": "python",
   "name": "python3"
  },
  "language_info": {
   "codemirror_mode": {
    "name": "ipython",
    "version": 3
   },
   "file_extension": ".py",
   "mimetype": "text/x-python",
   "name": "python",
   "nbconvert_exporter": "python",
   "pygments_lexer": "ipython3",
   "version": "3.13.2"
  }
 },
 "nbformat": 4,
 "nbformat_minor": 5
}
